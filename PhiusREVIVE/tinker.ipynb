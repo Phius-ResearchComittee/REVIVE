{
 "cells": [
  {
   "cell_type": "code",
   "execution_count": 18,
   "metadata": {},
   "outputs": [],
   "source": [
    "from pickle import TRUE\n",
    "import pandas as pd\n",
    "import numpy as np\n",
    "import matplotlib as mpl\n",
    "import matplotlib.pyplot as plt\n",
    "import datetime as dt\n",
    "from datetime import datetime\n",
    "import email.utils as eutils\n",
    "import time\n",
    "import streamlit as st\n",
    "import eppy as eppy\n",
    "from eppy import modeleditor\n",
    "from eppy.modeleditor import IDF\n",
    "from eppy.runner.run_functions import runIDFs\n",
    "import PySimpleGUI as sg\n",
    "from PIL import Image, ImageTk\n",
    "import os\n",
    "from eppy.results import readhtml # the eppy module with functions to read the html\n",
    "from eppy.results import fasthtml\n",
    "import subprocess\n",
    "import os\n",
    "from os import system\n",
    "\n",
    "import pprint\n",
    "pp = pprint.PrettyPrinter()"
   ]
  },
  {
   "cell_type": "code",
   "execution_count": 19,
   "metadata": {},
   "outputs": [
    {
     "data": {
      "text/html": [
       "<div>\n",
       "<style scoped>\n",
       "    .dataframe tbody tr th:only-of-type {\n",
       "        vertical-align: middle;\n",
       "    }\n",
       "\n",
       "    .dataframe tbody tr th {\n",
       "        vertical-align: top;\n",
       "    }\n",
       "\n",
       "    .dataframe thead th {\n",
       "        text-align: right;\n",
       "    }\n",
       "</style>\n",
       "<table border=\"1\" class=\"dataframe\">\n",
       "  <thead>\n",
       "    <tr style=\"text-align: right;\">\n",
       "      <th></th>\n",
       "      <th>CASE_NAME</th>\n",
       "      <th>EPW</th>\n",
       "      <th>DDY</th>\n",
       "      <th>ICFA</th>\n",
       "      <th>BEDROOMS</th>\n",
       "      <th>FLOW_COEFFICIENT [SI]</th>\n",
       "      <th>EXT_WINDOW_1_U-FACTOR</th>\n",
       "      <th>EXT_WINDOW_1_SHGC</th>\n",
       "      <th>EXT_WALL_1_NAME</th>\n",
       "      <th>EXT_ROOF_1_NAME</th>\n",
       "      <th>EXT_FLOOR_1_NAME</th>\n",
       "      <th>EXT_DOOR_1_NAME</th>\n",
       "      <th>INT_FLOOR_1_NAME</th>\n",
       "    </tr>\n",
       "  </thead>\n",
       "  <tbody>\n",
       "    <tr>\n",
       "      <th>0</th>\n",
       "      <td>Test 1</td>\n",
       "      <td>C:\\Users\\amitc_crl\\OneDrive\\Documents\\GitHub\\R...</td>\n",
       "      <td>C:\\Users\\amitc_crl\\OneDrive\\Documents\\GitHub\\R...</td>\n",
       "      <td>2200</td>\n",
       "      <td>5</td>\n",
       "      <td>0.05</td>\n",
       "      <td>0.15</td>\n",
       "      <td>0.35</td>\n",
       "      <td>Exterior_Wall_+1in_EPS</td>\n",
       "      <td>Exterior_Roof_R-30</td>\n",
       "      <td>Exterior_Slab_+_2in_EPS</td>\n",
       "      <td>Exterior_Door</td>\n",
       "      <td>Interior_Floor</td>\n",
       "    </tr>\n",
       "  </tbody>\n",
       "</table>\n",
       "</div>"
      ],
      "text/plain": [
       "  CASE_NAME                                                EPW  \\\n",
       "0    Test 1  C:\\Users\\amitc_crl\\OneDrive\\Documents\\GitHub\\R...   \n",
       "\n",
       "                                                 DDY  ICFA  BEDROOMS  \\\n",
       "0  C:\\Users\\amitc_crl\\OneDrive\\Documents\\GitHub\\R...  2200         5   \n",
       "\n",
       "   FLOW_COEFFICIENT [SI]  EXT_WINDOW_1_U-FACTOR  EXT_WINDOW_1_SHGC  \\\n",
       "0                   0.05                   0.15               0.35   \n",
       "\n",
       "          EXT_WALL_1_NAME     EXT_ROOF_1_NAME         EXT_FLOOR_1_NAME  \\\n",
       "0  Exterior_Wall_+1in_EPS  Exterior_Roof_R-30  Exterior_Slab_+_2in_EPS   \n",
       "\n",
       "  EXT_DOOR_1_NAME INT_FLOOR_1_NAME  \n",
       "0   Exterior_Door   Interior_Floor  "
      ]
     },
     "execution_count": 19,
     "metadata": {},
     "output_type": "execute_result"
    }
   ],
   "source": [
    "runListPath = 'C:/Users/amitc_crl/OneDrive/Documents/GitHub/REVIVE/PhiusREVIVE/Testing/test2/runs.csv' # str(input('Select runs.csv'))\n",
    "\n",
    "runCount = 0\n",
    "\n",
    "\n",
    "#==============================================================================================================================\n",
    "# 4.0 Variable Assignment\n",
    "#==============================================================================================================================\n",
    "\n",
    "runList = pd.read_csv(str(runListPath),)\n",
    "runList.head()\n",
    "# epwFile = runList['EPW'][runCount]\n"
   ]
  }
 ],
 "metadata": {
  "kernelspec": {
   "display_name": "Python 3",
   "language": "python",
   "name": "python3"
  },
  "language_info": {
   "codemirror_mode": {
    "name": "ipython",
    "version": 3
   },
   "file_extension": ".py",
   "mimetype": "text/x-python",
   "name": "python",
   "nbconvert_exporter": "python",
   "pygments_lexer": "ipython3",
   "version": "3.9.10"
  },
  "orig_nbformat": 4,
  "vscode": {
   "interpreter": {
    "hash": "7e5cbcd8e50703b8f307e0eef9153e975fdca55267b5b71b47a0619be45b96dd"
   }
  }
 },
 "nbformat": 4,
 "nbformat_minor": 2
}
