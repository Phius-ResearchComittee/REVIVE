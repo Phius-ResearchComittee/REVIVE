{
 "cells": [
  {
   "cell_type": "code",
   "execution_count": 1,
   "metadata": {},
   "outputs": [],
   "source": [
    "from pickle import TRUE\n",
    "import pandas as pd\n",
    "import numpy as np\n",
    "import matplotlib as mpl\n",
    "import matplotlib.pyplot as plt\n",
    "import datetime as dt\n",
    "from datetime import datetime\n",
    "import email.utils as eutils\n",
    "import time\n",
    "import streamlit as st\n",
    "import eppy as eppy\n",
    "from eppy import modeleditor\n",
    "from eppy.modeleditor import IDF\n",
    "from eppy.runner.run_functions import runIDFs\n",
    "import PySimpleGUI as sg\n",
    "from PIL import Image, ImageTk\n",
    "import os\n",
    "from eppy.results import readhtml # the eppy module with functions to read the html\n",
    "from eppy.results import fasthtml\n",
    "import subprocess\n",
    "import os\n",
    "from os import system\n",
    "\n",
    "import pprint\n",
    "pp = pprint.PrettyPrinter()"
   ]
  },
  {
   "cell_type": "code",
   "execution_count": 7,
   "metadata": {},
   "outputs": [
    {
     "name": "stdout",
     "output_type": "stream",
     "text": [
      "01/23\n"
     ]
    }
   ],
   "source": [
    "hourly = pd.read_csv('Testing/test1/eplusout.csv')\n",
    "\n",
    "outage1start = dt.datetime(2020, 1,23)\n",
    "outage1end = dt.datetime(2020, 2,8)\n",
    "\n",
    "\n",
    "hourly.rename(columns = {'Date/Time':'DateTime'}, inplace = True)\n",
    "hourly[['Date2','Time']] = hourly.DateTime.str.split(expand=True)\n",
    "hourly['Date'] = hourly['Date2'].map(str) + '/' + str(2020)\n",
    "hourly['Time'] = (pd.to_numeric(hourly['Time'].str.split(':').str[0])-1).astype(str).apply(lambda x: f'0{x}' if len(x)==1 else x) + hourly['Time'].str[2:]\n",
    "hourly['DateTime'] = hourly['Date'] + ' ' + hourly['Time']\n",
    "hourly['DateTime'] = pd.to_datetime(hourly['DateTime'])\n",
    "\n",
    "endWarmup = int((hourly[hourly['DateTime'] == '2020-01-01 00:00:00'].index.values))\n",
    "dropWarmup = [*range(0, endWarmup,1)]\n",
    "\n",
    "mask = (hourly['DateTime'] >= outage1start) & (hourly['DateTime'] <= outage1end)\n",
    "\n",
    "hourlyHeat = hourly.loc[mask]\n",
    "\n",
    "print(outage1start.strftime('%m/%d'))\n"
   ]
  }
 ],
 "metadata": {
  "kernelspec": {
   "display_name": "Python 3.9.6 64-bit",
   "language": "python",
   "name": "python3"
  },
  "language_info": {
   "codemirror_mode": {
    "name": "ipython",
    "version": 3
   },
   "file_extension": ".py",
   "mimetype": "text/x-python",
   "name": "python",
   "nbconvert_exporter": "python",
   "pygments_lexer": "ipython3",
   "version": "3.9.6"
  },
  "orig_nbformat": 4,
  "vscode": {
   "interpreter": {
    "hash": "11938c6bc6919ae2720b4d5011047913343b08a43b18698fd82dedb0d4417594"
   }
  }
 },
 "nbformat": 4,
 "nbformat_minor": 2
}
