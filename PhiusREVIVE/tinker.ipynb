{
 "cells": [
  {
   "cell_type": "code",
   "execution_count": 2,
   "metadata": {},
   "outputs": [],
   "source": [
    "from pickle import TRUE\n",
    "import pandas as pd\n",
    "import numpy as np\n",
    "import matplotlib as mpl\n",
    "import matplotlib.pyplot as plt\n",
    "import datetime as dt\n",
    "from datetime import datetime\n",
    "import email.utils as eutils\n",
    "import time\n",
    "import streamlit as st\n",
    "import eppy as eppy\n",
    "from eppy import modeleditor\n",
    "from eppy.modeleditor import IDF\n",
    "from eppy.runner.run_functions import runIDFs\n",
    "import PySimpleGUI as sg\n",
    "from PIL import Image, ImageTk\n",
    "import os\n",
    "from eppy.results import readhtml # the eppy module with functions to read the html\n",
    "from eppy.results import fasthtml\n",
    "import subprocess\n",
    "import os\n",
    "from os import system\n",
    "\n",
    "import pprint\n",
    "pp = pprint.PrettyPrinter()"
   ]
  },
  {
   "cell_type": "code",
   "execution_count": 28,
   "metadata": {},
   "outputs": [
    {
     "name": "stdout",
     "output_type": "stream",
     "text": [
      "('Slab', 'EPS', 0.6096, 25)\n",
      "('Crawl', 'XPS', 0.6096, 30)\n",
      "('Basement', 'MWB', 0.6096, 35)\n"
     ]
    }
   ],
   "source": [
    "fnd1 = 'Slab'\n",
    "fnd1i = 'EPS'\n",
    "fnd1p = 25\n",
    "fnd1d = 2*0.3048\n",
    "\n",
    "fnd2 = 'Crawl'\n",
    "fnd2i = 'XPS'\n",
    "fnd2p = 30\n",
    "fnd2d = 2*0.3048\n",
    "\n",
    "fnd3 = 'Basement'\n",
    "fnd3i = 'MWB'\n",
    "fnd3p = 35\n",
    "fnd3d = 2*0.3048\n",
    "\n",
    "foundationList = [(fnd1,fnd1i,fnd1d,fnd1p),\n",
    "               (fnd2,fnd2i,fnd2d,fnd2p),\n",
    "               (fnd3,fnd3i,fnd3d,fnd3p)]\n",
    "\n",
    "\n",
    "for row in foundationList:\n",
    "    if row[0] != '':\n",
    "        print(row)"
   ]
  }
 ],
 "metadata": {
  "kernelspec": {
   "display_name": "Python 3",
   "language": "python",
   "name": "python3"
  },
  "language_info": {
   "codemirror_mode": {
    "name": "ipython",
    "version": 3
   },
   "file_extension": ".py",
   "mimetype": "text/x-python",
   "name": "python",
   "nbconvert_exporter": "python",
   "pygments_lexer": "ipython3",
   "version": "3.9.10"
  },
  "orig_nbformat": 4,
  "vscode": {
   "interpreter": {
    "hash": "7e5cbcd8e50703b8f307e0eef9153e975fdca55267b5b71b47a0619be45b96dd"
   }
  }
 },
 "nbformat": 4,
 "nbformat_minor": 2
}
