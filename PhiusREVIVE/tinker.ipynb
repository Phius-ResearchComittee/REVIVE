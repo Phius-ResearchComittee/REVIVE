{
 "cells": [
  {
   "cell_type": "code",
   "execution_count": 2,
   "metadata": {},
   "outputs": [],
   "source": [
    "from pickle import TRUE\n",
    "import pandas as pd\n",
    "import numpy as np\n",
    "import matplotlib as mpl\n",
    "import matplotlib.pyplot as plt\n",
    "import datetime as dt\n",
    "from datetime import datetime\n",
    "import email.utils as eutils\n",
    "import time\n",
    "import streamlit as st\n",
    "import eppy as eppy\n",
    "from eppy import modeleditor\n",
    "from eppy.modeleditor import IDF\n",
    "from eppy.runner.run_functions import runIDFs\n",
    "import PySimpleGUI as sg\n",
    "from PIL import Image, ImageTk\n",
    "import os\n",
    "from eppy.results import readhtml # the eppy module with functions to read the html\n",
    "from eppy.results import fasthtml\n",
    "import subprocess\n",
    "import os\n",
    "from os import system\n",
    "\n",
    "import pprint\n",
    "pp = pprint.PrettyPrinter()"
   ]
  },
  {
   "cell_type": "code",
   "execution_count": 3,
   "metadata": {},
   "outputs": [],
   "source": [
    "sg.theme('LightBlue2')\n",
    "BAR_MAX = 24\n",
    "\n",
    "tab0_layout =  [[sg.Text('Welcome')],\n",
    "                [sg.Text('Please follow the steps below to test thermal resilience of the house')],\n",
    "                [sg.Text('0. Click IMPORT TEMPLATE to creat a new blank IDF from template')],\n",
    "                [sg.Text('1. Click IMPORT to import geometry from the base IDF and design weather data from DDY')],\n",
    "                [sg.Text('2. Click CREATE to create an IDF from CSV Run List')],\n",
    "                [sg.Text('3. Run parametric IDF using EP-Launch')],\n",
    "                [sg.Text('4. Click COLLECT to compile results')],\n",
    "                ]\n",
    "\n",
    "tab1_layout =   [[sg.Text('Study Folder:', size =(15, 1)),sg.InputText('C:\\\\4StepResiliencev1-2', key='StudyFolder'), sg.FolderBrowse()],\n",
    "                [sg.Text('Geometry IDF:', size =(15, 1)),sg.InputText('Select IDF with Geometry', key='GEO'), sg.FileBrowse()],\n",
    "                [sg.Text('Template IDF:', size =(15, 1)),sg.InputText('C:\\\\4StepResiliencev1-2\\\\00_SF Base v1_noGeo.idf', key='template'), sg.FileBrowse()],\n",
    "                [sg.Text('DDY:', size =(15, 1)),sg.InputText('Select DDY File', key='DDY'), sg.FileBrowse()],\n",
    "                [sg.Text('IDD File Location:', size =(15, 1)),sg.InputText(\"C:\\EnergyPlusV9-5-0\\Energy+.idd\", key='iddFile'), sg.FileBrowse()],\n",
    "                [sg.Button('IMPORT TEMPLATE',  button_color=('white', 'orange'))],\n",
    "                ]\n",
    "\n",
    "tab2_layout =   [[sg.Text('File Name:', size =(20, 1)),sg.InputText('Name your file', key='BaseFileName')],\n",
    "                [sg.Text('Occupancy:', size =(20, 1)),sg.InputText('4', key='Occupants')],\n",
    "                [sg.Text('ICFA:', size =(20, 1)),sg.InputText('2128', key='ICFA')],\n",
    "                [sg.Text('Partition to ICFA Ratio:', size =(20, 1)),sg.InputText('1.0', key='PartitionRatio')],\n",
    "                [sg.Text('For plotting temperature and RH during outage:')],\n",
    "                [sg.Text('Outage 1 Start Date:', size =(20, 1)),sg.InputText('2020-01-26 00:00:00', key='OS1')],\n",
    "                [sg.Text('Outage 1 End Date:', size =(20, 1)),sg.InputText('2020-02-04 00:00:00', key='OE1')],\n",
    "                [sg.Text('Outage 2 Start Date:', size =(20, 1)),sg.InputText('2020-07-19 00:00:00', key='OS2')],\n",
    "                [sg.Text('Outage 2 End Date:', size =(20, 1)),sg.InputText('2020-07-30 00:00:00', key='OE2')],\n",
    "                ]\n",
    "\n",
    "layout1 = [\n",
    "    # [sg.Image(r'C:\\Users\\amitc\\Documents\\GitHub\\Phius-REVIVE\\Project Program\\4StepResilience\\al_REVIVE_PILOT_logo.png')],\n",
    "                [sg.TabGroup(\n",
    "                [[sg.Tab('Start', tab0_layout,),\n",
    "                sg.Tab('Project Settings', tab1_layout,),\n",
    "                sg.Tab('Basic Input Data', tab2_layout,),]])],\n",
    "                [sg.Text('COLLECT Progress:')],\n",
    "                [sg.ProgressBar(BAR_MAX, orientation='h', size=(20,20), key='-PROG-')],\n",
    "                [sg.Button('IMPORT'), sg.Button('CREATE'), sg.Button('COLLECT'), sg.Button('EXIT')]]  \n",
    "\n",
    "window = sg.Window('4 Step Resilience Test v1.2',layout1, default_element_size=(125, 125), grab_anywhere=True)   "
   ]
  }
 ],
 "metadata": {
  "kernelspec": {
   "display_name": "Python 3",
   "language": "python",
   "name": "python3"
  },
  "language_info": {
   "codemirror_mode": {
    "name": "ipython",
    "version": 3
   },
   "file_extension": ".py",
   "mimetype": "text/x-python",
   "name": "python",
   "nbconvert_exporter": "python",
   "pygments_lexer": "ipython3",
   "version": "3.9.10"
  },
  "orig_nbformat": 4,
  "vscode": {
   "interpreter": {
    "hash": "7e5cbcd8e50703b8f307e0eef9153e975fdca55267b5b71b47a0619be45b96dd"
   }
  }
 },
 "nbformat": 4,
 "nbformat_minor": 2
}
