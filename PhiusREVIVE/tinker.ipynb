{
 "cells": [
  {
   "cell_type": "code",
   "execution_count": 73,
   "metadata": {},
   "outputs": [],
   "source": [
    "from pickle import TRUE\n",
    "import pandas as pd\n",
    "import numpy as np\n",
    "import matplotlib as mpl\n",
    "import matplotlib.pyplot as plt\n",
    "import datetime as dt\n",
    "from datetime import datetime\n",
    "import email.utils as eutils\n",
    "import time\n",
    "import streamlit as st\n",
    "import eppy as eppy\n",
    "from eppy import modeleditor\n",
    "from eppy.modeleditor import IDF\n",
    "from eppy.runner.run_functions import runIDFs\n",
    "import PySimpleGUI as sg\n",
    "from PIL import Image, ImageTk\n",
    "import os\n",
    "from eppy.results import readhtml # the eppy module with functions to read the html\n",
    "from eppy.results import fasthtml\n",
    "import subprocess\n",
    "import os\n",
    "from os import system\n",
    "\n",
    "import pprint\n",
    "pp = pprint.PrettyPrinter()"
   ]
  },
  {
   "cell_type": "code",
   "execution_count": 74,
   "metadata": {},
   "outputs": [
    {
     "name": "stdout",
     "output_type": "stream",
     "text": [
      "15.22\n",
      "4091.33\n"
     ]
    }
   ],
   "source": [
    "studyFolder = 'C:/Users/amitc_crl/OneDrive/Documents/GitHub/REVIVE/PhiusREVIVE/Testing/test2'\n",
    "\n",
    "fname = (str(studyFolder) + '/eplustbl.htm')\n",
    "filehandle = open(fname, 'r').read()\n",
    "ltables = readhtml.lines_table(filehandle) # reads the tables with their titles\n",
    "\n",
    "for ltable in ltables:\n",
    "    if 'Site and Source Energy' in '/n'.join(ltable[0]): #and 'For: Entire Facility' in '/n'.join(ltable[0]):\n",
    "        eui = float(ltable[1][1][2])\n",
    "\n",
    "for ltable in ltables:\n",
    "    if 'Annual and Peak Values - Electricity' in '/n'.join(ltable[0]): #and 'For: Entire Facility' in '/n'.join(ltable[0]):\n",
    "        peakElec = float(ltable[1][1][4])\n",
    "\n",
    "print(eui)\n",
    "print(peakElec)"
   ]
  },
  {
   "cell_type": "code",
   "execution_count": 135,
   "metadata": {},
   "outputs": [
    {
     "data": {
      "text/plain": [
       "4.823689636918779"
      ]
     },
     "execution_count": 135,
     "metadata": {},
     "output_type": "execute_result"
    }
   ],
   "source": [
    "filehandleMTR = ('C:/Users/amitc_crl/OneDrive/Documents/GitHub/REVIVE/PhiusREVIVE/Testing/test2/eplusmtr.csv')\n",
    "monthlyMTR= pd.read_csv(filehandleMTR)\n",
    "\n",
    "monthlyMTR = monthlyMTR.drop(index=[0,1,2,3,4,5,6,7])\n",
    "sum(monthlyMTR['NaturalGas:Facility [J](Monthly) ']*9.478169879E-9)"
   ]
  }
 ],
 "metadata": {
  "kernelspec": {
   "display_name": "Python 3",
   "language": "python",
   "name": "python3"
  },
  "language_info": {
   "codemirror_mode": {
    "name": "ipython",
    "version": 3
   },
   "file_extension": ".py",
   "mimetype": "text/x-python",
   "name": "python",
   "nbconvert_exporter": "python",
   "pygments_lexer": "ipython3",
   "version": "3.9.10"
  },
  "orig_nbformat": 4,
  "vscode": {
   "interpreter": {
    "hash": "7e5cbcd8e50703b8f307e0eef9153e975fdca55267b5b71b47a0619be45b96dd"
   }
  }
 },
 "nbformat": 4,
 "nbformat_minor": 2
}
