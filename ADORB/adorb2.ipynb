{
 "cells": [
  {
   "cell_type": "markdown",
   "metadata": {},
   "source": [
    "# ADORB Carbon LCA Calculator\n",
    "### ADORB / FCALC cost is a full-cost-accounted annualized life-cycle cost metric for building projects.\n",
    "\n",
    "#### Updated: 11/15/2022\n"
   ]
  },
  {
   "cell_type": "code",
   "execution_count": 73,
   "metadata": {},
   "outputs": [],
   "source": [
    "# Manage dependencies\n",
    "import pandas as pd\n",
    "import os\n",
    "os.chdir('C:/Users/amitc_crl/OneDrive/Documents/GitHub/REVIVE/ADORB')"
   ]
  },
  {
   "cell_type": "code",
   "execution_count": 74,
   "metadata": {},
   "outputs": [
    {
     "name": "stdout",
     "output_type": "stream",
     "text": [
      "5\n"
     ]
    }
   ],
   "source": [
    "maint = [(15000,5),(2000,10)]\n",
    "\n",
    "print(maint[0][1])"
   ]
  },
  {
   "cell_type": "code",
   "execution_count": 77,
   "metadata": {},
   "outputs": [],
   "source": [
    "\n",
    "\n",
    "def adorb(analysisPeriod, annualElec, annualGas, annualCO2, dirMR, emCO2, eTrans):\n",
    "    years = range(analysisPeriod)\n",
    "    pv = []\n",
    "    \n",
    "    pc= 0.25\n",
    "\n",
    "\n",
    "\n",
    "    k_dirEn = 0.02\n",
    "    k_opCarb = 0\n",
    "    k_dirMR = 0.02\n",
    "    k_emCarb = 0\n",
    "\n",
    "\n",
    "    # annual sum of all high level sub routines, run those first then run \n",
    "    for i in years:\n",
    "        year = i+1\n",
    "        \n",
    "        # Direct energy costs\n",
    "        pv_dirEn = ((annualElec * 0.15) + (annualGas * 1.26))/((1+k_dirEn)**year)\n",
    "\n",
    "        # Cost of operational carbon\n",
    "        c_opCarb = annualCO2 * pc\n",
    "        pv_opCO2 = c_opCarb/((1+k_opCarb)**year)\n",
    "\n",
    "        # Cost of embodied carbon\n",
    "\n",
    "        # Cost of direct maint / retrofit\n",
    "        for row in dirMR:\n",
    "            c_dirMR = []\n",
    "            if row[1] == year:\n",
    "                c_dirMR.append(row[0]/((1+k_dirMR)**year))\n",
    "            else:\n",
    "                c_dirMR = 0\n",
    "        pv_dirMR = 1\n",
    "            \n",
    "\n",
    "\n",
    "        # Cost of energy transition\n",
    "\n",
    "\n",
    "\n",
    "        pv.append((pv_dirEn + pv_opCO2 + pv_dirMR + emCO2 + eTrans))\n",
    "\n",
    "    print(pv)\n",
    "\n",
    "    return pv\n",
    "\n",
    "        # PV_i = sum over y from 1 to N of C_i_y / (1+k_i^y) , where\n",
    "        # C_i  is the Cost, of cost component i [$].\n",
    "        # k_i is the discount rate for cost component i [fraction 0 to 1].\n",
    "        # k_dirEnr = 0.02\n",
    "        # k_opCarb = 0\n",
    "        # k_dirMR = 0.02\n",
    "        # k_emCarb = 0\n",
    "        # y is the year, counting from the current year = 1, that is, the future calendar year minus the previous calendar year.\n"
   ]
  },
  {
   "cell_type": "code",
   "execution_count": 78,
   "metadata": {},
   "outputs": [
    {
     "ename": "AttributeError",
     "evalue": "'int' object has no attribute 'append'",
     "output_type": "error",
     "traceback": [
      "\u001b[1;31m---------------------------------------------------------------------------\u001b[0m",
      "\u001b[1;31mAttributeError\u001b[0m                            Traceback (most recent call last)",
      "Cell \u001b[1;32mIn [78], line 14\u001b[0m\n\u001b[0;32m     11\u001b[0m NatEmiss \u001b[39m=\u001b[39m pd\u001b[39m.\u001b[39mread_csv(\u001b[39m'\u001b[39m\u001b[39mNatlEmission.csv\u001b[39m\u001b[39m'\u001b[39m)\n\u001b[0;32m     13\u001b[0m \u001b[39m# testing the function\u001b[39;00m\n\u001b[1;32m---> 14\u001b[0m adorb(duration, annualElec, annualGas, annualCO2, dirMR, emCO2, eTrans)\n",
      "Cell \u001b[1;32mIn [77], line 32\u001b[0m, in \u001b[0;36madorb\u001b[1;34m(analysisPeriod, annualElec, annualGas, annualCO2, dirMR, emCO2, eTrans)\u001b[0m\n\u001b[0;32m     30\u001b[0m \u001b[39mfor\u001b[39;00m row \u001b[39min\u001b[39;00m dirMR:\n\u001b[0;32m     31\u001b[0m     \u001b[39mif\u001b[39;00m row[\u001b[39m1\u001b[39m] \u001b[39m==\u001b[39m year:\n\u001b[1;32m---> 32\u001b[0m         c_dirMR\u001b[39m.\u001b[39;49mappend(row[\u001b[39m0\u001b[39m]\u001b[39m/\u001b[39m((\u001b[39m1\u001b[39m\u001b[39m+\u001b[39mk_dirMR)\u001b[39m*\u001b[39m\u001b[39m*\u001b[39myear))\n\u001b[0;32m     33\u001b[0m     \u001b[39melse\u001b[39;00m:\n\u001b[0;32m     34\u001b[0m         c_dirMR \u001b[39m=\u001b[39m \u001b[39m0\u001b[39m\n",
      "\u001b[1;31mAttributeError\u001b[0m: 'int' object has no attribute 'append'"
     ]
    }
   ],
   "source": [
    "# Inputs\n",
    "duration = 70\n",
    "annualElec = 1000\n",
    "annualGas = 1500\n",
    "annualCO2 = 150 \n",
    "dirMR = [(15000,5),(2000,10)]\n",
    "emCO2 = 1500 \n",
    "eTrans = 150\n",
    "\n",
    "# Dependencies and databasing\n",
    "NatEmiss = pd.read_csv('NatlEmission.csv')\n",
    "\n",
    "# testing the function\n",
    "adorb(duration, annualElec, annualGas, annualCO2, dirMR, emCO2, eTrans)\n"
   ]
  }
 ],
 "metadata": {
  "kernelspec": {
   "display_name": "Python 3.9.10 64-bit",
   "language": "python",
   "name": "python3"
  },
  "language_info": {
   "codemirror_mode": {
    "name": "ipython",
    "version": 3
   },
   "file_extension": ".py",
   "mimetype": "text/x-python",
   "name": "python",
   "nbconvert_exporter": "python",
   "pygments_lexer": "ipython3",
   "version": "3.9.10"
  },
  "orig_nbformat": 4,
  "vscode": {
   "interpreter": {
    "hash": "7e5cbcd8e50703b8f307e0eef9153e975fdca55267b5b71b47a0619be45b96dd"
   }
  }
 },
 "nbformat": 4,
 "nbformat_minor": 2
}
