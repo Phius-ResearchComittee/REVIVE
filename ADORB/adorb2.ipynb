{
 "cells": [
  {
   "cell_type": "markdown",
   "metadata": {},
   "source": [
    "# ADORB Carbon LCA Calculator\n",
    "### ADORB / FCALC cost is a full-cost-accounted annualized life-cycle cost metric for building projects.\n",
    "\n",
    "#### Updated: 11/15/2022\n"
   ]
  },
  {
   "cell_type": "code",
   "execution_count": 12,
   "metadata": {},
   "outputs": [],
   "source": [
    "# Manage dependencies\n",
    "import pandas as pd\n"
   ]
  },
  {
   "cell_type": "code",
   "execution_count": 13,
   "metadata": {},
   "outputs": [],
   "source": [
    "\n",
    "\n",
    "def adorb(analysisPeriod, annualElec, annualGas, annualCO2, dirMR, emCO2, eTrans):\n",
    "    years = range(analysisPeriod)\n",
    "    PV = []\n",
    "\n",
    "    k_dirEn = 0.02\n",
    "    k_opCarb = 0\n",
    "    k_dirMR = 0.02\n",
    "    k_emCarb = 0\n",
    "    # annual sum of all high level sub routines, run those first then run \n",
    "    for i in years:\n",
    "        year = i+1\n",
    "        dirEn = ((annualElec * 0.15) + (annualGas * 1.26))\n",
    "        opCO2 = annualCO2\n",
    "        PV.append((dirEn + opCO2 + dirMR + emCO2 + eTrans))\n",
    "\n",
    "        # PV_i = sum over y from 1 to N of C_i_y / (1+k_i^y) , where\n",
    "        # C_i  is the Cost, of cost component i [$].\n",
    "        # k_i is the discount rate for cost component i [fraction 0 to 1].\n",
    "        # k_dirEnr = 0.02\n",
    "        # k_opCarb = 0\n",
    "        # k_dirMR = 0.02\n",
    "        # k_emCarb = 0\n",
    "        # y is the year, counting from the current year = 1, that is, the future calendar year minus the previous calendar year.\n"
   ]
  },
  {
   "cell_type": "code",
   "execution_count": 14,
   "metadata": {},
   "outputs": [
    {
     "ename": "NameError",
     "evalue": "name 'dirEnr' is not defined",
     "output_type": "error",
     "traceback": [
      "\u001b[1;31m---------------------------------------------------------------------------\u001b[0m",
      "\u001b[1;31mNameError\u001b[0m                                 Traceback (most recent call last)",
      "Cell \u001b[1;32mIn [14], line 9\u001b[0m\n\u001b[0;32m      7\u001b[0m eTrans \u001b[39m=\u001b[39m \u001b[39m150\u001b[39m\n\u001b[0;32m      8\u001b[0m \u001b[39m# testing the function\u001b[39;00m\n\u001b[1;32m----> 9\u001b[0m adorb(duration, annualElec, annualCO2, dirMR, emCO2, eTrans)\n",
      "Cell \u001b[1;32mIn [13], line 5\u001b[0m, in \u001b[0;36madorb\u001b[1;34m(analysisPeriod, annualElec, annualCO2, dirMR, emCO2, eTrans)\u001b[0m\n\u001b[0;32m      3\u001b[0m PV \u001b[39m=\u001b[39m []\n\u001b[0;32m      4\u001b[0m \u001b[39mfor\u001b[39;00m i \u001b[39min\u001b[39;00m years:\n\u001b[1;32m----> 5\u001b[0m     PV\u001b[39m.\u001b[39mappend(dirEnr \u001b[39m+\u001b[39m opCO2 \u001b[39m+\u001b[39m dirMR \u001b[39m+\u001b[39m emCO2 \u001b[39m+\u001b[39m eTrans)\n",
      "\u001b[1;31mNameError\u001b[0m: name 'dirEnr' is not defined"
     ]
    }
   ],
   "source": [
    "# Inputs\n",
    "duration = 70\n",
    "annualElec = 1000\n",
    "annualGas = 1500\n",
    "annualCO2 = 150 \n",
    "dirMR = 15000 \n",
    "emCO2 = 1500 \n",
    "eTrans = 150\n",
    "# testing the function\n",
    "adorb(duration, annualElec, annualGas, annualCO2, dirMR, emCO2, eTrans)"
   ]
  }
 ],
 "metadata": {
  "kernelspec": {
   "display_name": "Python 3.11.0 64-bit",
   "language": "python",
   "name": "python3"
  },
  "language_info": {
   "codemirror_mode": {
    "name": "ipython",
    "version": 3
   },
   "file_extension": ".py",
   "mimetype": "text/x-python",
   "name": "python",
   "nbconvert_exporter": "python",
   "pygments_lexer": "ipython3",
   "version": "3.11.0"
  },
  "orig_nbformat": 4,
  "vscode": {
   "interpreter": {
    "hash": "3a2df8bce4c3728179e711f7ab2bb12605327eb6ffdafff600c2f3855ccd679c"
   }
  }
 },
 "nbformat": 4,
 "nbformat_minor": 2
}
