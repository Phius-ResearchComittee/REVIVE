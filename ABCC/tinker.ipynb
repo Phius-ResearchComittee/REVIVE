{
 "cells": [
  {
   "cell_type": "code",
   "execution_count": 1,
   "id": "38e82e8b",
   "metadata": {},
   "outputs": [],
   "source": [
    "import pandas as pd"
   ]
  },
  {
   "cell_type": "code",
   "execution_count": 4,
   "id": "ed035c05",
   "metadata": {},
   "outputs": [
    {
     "name": "stderr",
     "output_type": "stream",
     "text": [
      "C:\\Users\\amitc_crl\\AppData\\Local\\Temp\\ipykernel_44248\\559336596.py:3: DtypeWarning: Columns (2) have mixed types. Specify dtype option on import or set low_memory=False.\n",
      "  df = pd.read_csv(database)\n"
     ]
    },
    {
     "name": "stdout",
     "output_type": "stream",
     "text": [
      "855\n"
     ]
    }
   ],
   "source": [
    "database = \"D:/ABCC/550k_results_with_economics_allfuels_chars.csv/550k_results_with_economics_allfuels_chars.csv\"\n",
    "\n",
    "df = pd.read_csv(database)\n",
    "\n",
    "weather_stations = set(list(df['build_existing_model.weather_file_city']))\n",
    "\n",
    "print(len(weather_stations))\n",
    "\n"
   ]
  }
 ],
 "metadata": {
  "kernelspec": {
   "display_name": "base",
   "language": "python",
   "name": "python3"
  },
  "language_info": {
   "codemirror_mode": {
    "name": "ipython",
    "version": 3
   },
   "file_extension": ".py",
   "mimetype": "text/x-python",
   "name": "python",
   "nbconvert_exporter": "python",
   "pygments_lexer": "ipython3",
   "version": "3.10.9"
  }
 },
 "nbformat": 4,
 "nbformat_minor": 5
}
