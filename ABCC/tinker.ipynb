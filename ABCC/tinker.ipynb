{
 "cells": [
  {
   "cell_type": "code",
   "execution_count": 2,
   "id": "6016d0d3",
   "metadata": {},
   "outputs": [],
   "source": [
    "import pandas as pd\n",
    "import eppy as eppy\n",
    "from eppy import modeleditor\n",
    "from eppy.modeleditor import IDF\n",
    "from eppy.runner.run_functions import runIDFs\n",
    "from eppy.results import readhtml # the eppy module with functions to read the html\n",
    "from eppy.results import fasthtml\n",
    "import datetime\n",
    "from datetime import timedelta\n",
    "import itertools\n",
    "from itertools import product\n",
    "import random\n",
    "import os\n",
    "import time\n",
    "# from joblib import Parallel,delayed "
   ]
  },
  {
   "cell_type": "code",
   "execution_count": 11,
   "id": "ed035c05",
   "metadata": {},
   "outputs": [
    {
     "name": "stderr",
     "output_type": "stream",
     "text": [
      "C:\\Users\\amitc_crl\\AppData\\Local\\Temp\\ipykernel_31320\\1775281832.py:3: DtypeWarning: Columns (2) have mixed types. Specify dtype option on import or set low_memory=False.\n",
      "  df = pd.read_csv(database)\n"
     ]
    },
    {
     "name": "stdout",
     "output_type": "stream",
     "text": [
      "File written successfully\n"
     ]
    }
   ],
   "source": [
    "database = \"C:/Users/amitc_crl/Downloads\\output2.csv\"\n",
    "\n",
    "df = pd.read_csv(database)\n",
    "\n",
    "weather_stations = set(list(df['weather_ASHRAE Location']))\n",
    "\n",
    "wmos = []\n",
    "for station in weather_stations:\n",
    "    try:\n",
    "        wmos.append(str(station).split('WMO:')[1].replace(\")\", \"\"))\n",
    "    except:\n",
    "        pass\n",
    "\n",
    "with open('gfg.txt', 'w+') as f:\n",
    "\n",
    "    # write elements of list\n",
    "    for items in wmos:\n",
    "        f.write('%s\\n' %items)\n",
    "\n",
    "print(\"File written successfully\")\n",
    "\n",
    "\n",
    "# close the file\n",
    "f.close()    \n"
   ]
  }
 ],
 "metadata": {
  "kernelspec": {
   "display_name": "base",
   "language": "python",
   "name": "python3"
  },
  "language_info": {
   "codemirror_mode": {
    "name": "ipython",
    "version": 3
   },
   "file_extension": ".py",
   "mimetype": "text/x-python",
   "name": "python",
   "nbconvert_exporter": "python",
   "pygments_lexer": "ipython3",
   "version": "3.10.9"
  }
 },
 "nbformat": 4,
 "nbformat_minor": 5
}
